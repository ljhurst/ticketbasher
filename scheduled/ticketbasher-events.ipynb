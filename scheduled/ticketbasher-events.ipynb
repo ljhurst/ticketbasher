{
 "cells": [
  {
   "cell_type": "code",
   "execution_count": null,
   "metadata": {},
   "outputs": [],
   "source": [
    "import os\n",
    "import requests"
   ]
  },
  {
   "cell_type": "code",
   "execution_count": null,
   "metadata": {},
   "outputs": [],
   "source": [
    "%run ../common/data-files.py"
   ]
  },
  {
   "cell_type": "code",
   "execution_count": null,
   "metadata": {},
   "outputs": [],
   "source": [
    "def get_venue_ids():\n",
    "    venues_df = DataFiles.read('ticketbasher/venues')\n",
    "    \n",
    "    active_venues = venues_df[venues_df['active'] == True]\n",
    "    \n",
    "    return list(active_venues['id'])"
   ]
  },
  {
   "cell_type": "code",
   "execution_count": null,
   "metadata": {},
   "outputs": [],
   "source": [
    "def get_seatgeek_events_by_venues(venue_ids):\n",
    "    url = 'https://api.seatgeek.com/2/events'\n",
    "    params = {\n",
    "        'client_id': os.environ.get('SEATGEEK_CLIENT_ID'),\n",
    "        'taxonomies.name': 'concert',\n",
    "        'sort': 'score.desc',\n",
    "        'listing_count.gt': 0,\n",
    "        'venue.id': ','.join(str(x) for x in venue_ids),\n",
    "        'per_page': 250\n",
    "    }\n",
    "\n",
    "    events = requests.get(url=url, params=params)\n",
    "    \n",
    "    return events.json()"
   ]
  },
  {
   "cell_type": "code",
   "execution_count": null,
   "metadata": {},
   "outputs": [],
   "source": [
    "def parse_events(events):\n",
    "    parsed_events = []\n",
    "\n",
    "    for event in events['events']:\n",
    "        primary_artist = [artist for artist in event['performers'] if ('primary' in artist) and (artist['primary'] == True)][0]\n",
    "\n",
    "        no_primary_genre = {\n",
    "            'id': None,\n",
    "            'slug': None\n",
    "        }\n",
    "        if 'genres' in primary_artist:\n",
    "            primary_genres = [genre for genre in primary_artist['genres'] if genre['primary'] == True]\n",
    "            if primary_genres:\n",
    "                primary_genre = primary_genres[0]\n",
    "            else:\n",
    "                primary_genre = no_primary_genre\n",
    "        else:\n",
    "            primary_genre = no_primary_genre\n",
    "                \n",
    "        parsed_events.append({\n",
    "            'id': event['id'],\n",
    "            'title': event['title'],\n",
    "            'datetime_utc': event['datetime_utc'],\n",
    "            'popularity': event['popularity'],\n",
    "            'venue_id': event['venue']['id'],\n",
    "            'primary_artist_id': primary_artist['id'],\n",
    "            'primary_artist_slug': primary_artist['slug'],\n",
    "            'primary_genre_id': primary_genre['id'],\n",
    "            'primary_genre_slug': primary_genre['slug'],\n",
    "            \n",
    "            'listing_count': event['stats']['listing_count'],\n",
    "            'visible_listing_count': event['stats']['visible_listing_count'],\n",
    "            'lowest_price': event['stats']['lowest_price'],\n",
    "            'highest_price': event['stats']['highest_price'],\n",
    "            'average_price': event['stats']['average_price'],\n",
    "            'median_price': event['stats']['median_price'],\n",
    "        })\n",
    "\n",
    "    return parsed_events"
   ]
  },
  {
   "cell_type": "code",
   "execution_count": null,
   "metadata": {},
   "outputs": [],
   "source": [
    "def main():\n",
    "    # Get venues in Portland\n",
    "    venue_ids = get_venue_ids()\n",
    "\n",
    "    # Get events in Portland\n",
    "    portland_events = get_seatgeek_events_by_venues(venue_ids)\n",
    "    \n",
    "    # Parse events\n",
    "    parsed_portland_events = parse_events(portland_events)\n",
    "\n",
    "    # Write dataset\n",
    "    DataFiles.write('ticketbasher/events', pd.DataFrame(parsed_portland_events))"
   ]
  },
  {
   "cell_type": "code",
   "execution_count": null,
   "metadata": {},
   "outputs": [],
   "source": [
    "main()"
   ]
  }
 ],
 "metadata": {
  "kernelspec": {
   "display_name": "Python 3",
   "language": "python",
   "name": "python3"
  },
  "language_info": {
   "codemirror_mode": {
    "name": "ipython",
    "version": 3
   },
   "file_extension": ".py",
   "mimetype": "text/x-python",
   "name": "python",
   "nbconvert_exporter": "python",
   "pygments_lexer": "ipython3",
   "version": "3.8.10"
  }
 },
 "nbformat": 4,
 "nbformat_minor": 2
}
