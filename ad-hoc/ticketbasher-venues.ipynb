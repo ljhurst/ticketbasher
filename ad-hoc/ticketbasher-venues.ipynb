{
 "cells": [
  {
   "cell_type": "code",
   "execution_count": null,
   "metadata": {},
   "outputs": [],
   "source": [
    "import datetime\n",
    "import os\n",
    "\n",
    "import fastparquet\n",
    "import pandas\n",
    "import requests"
   ]
  },
  {
   "cell_type": "code",
   "execution_count": null,
   "metadata": {},
   "outputs": [],
   "source": [
    "%run ../common/data-files.py"
   ]
  },
  {
   "cell_type": "code",
   "execution_count": null,
   "metadata": {},
   "outputs": [],
   "source": [
    "def get_seatgeek_venues():\n",
    "    url = 'https://api.seatgeek.com/2/venues'\n",
    "    params = {\n",
    "        'client_id': os.environ.get('SEATGEEK_CLIENT_ID'),\n",
    "        'state': 'OR',\n",
    "        'city': 'portland',\n",
    "        'id': '256,3842,756,543,218,319,578,141013,1666,658,7733,1021',\n",
    "        'per_page': 500\n",
    "    }\n",
    "\n",
    "    venues = requests.get(url=url, params=params)\n",
    "    \n",
    "    return venues.json()"
   ]
  },
  {
   "cell_type": "code",
   "execution_count": null,
   "metadata": {},
   "outputs": [],
   "source": [
    "def parse_venues(venues):\n",
    "    venues_df = pandas.DataFrame(venues['venues'])[['id', 'name']]\n",
    "    venues_df['active'] = True\n",
    "    venues_df.loc[venues_df[\"id\"] == 1666, \"active\"] = False\n",
    "    \n",
    "    return venues_df"
   ]
  },
  {
   "cell_type": "code",
   "execution_count": null,
   "metadata": {},
   "outputs": [],
   "source": [
    "def main():\n",
    "    venues = get_seatgeek_venues()\n",
    "    parsed_venues_df = parse_venues(venues)\n",
    "    \n",
    "    DataFiles.write('ticketbasher/venues', parsed_venues_df)"
   ]
  },
  {
   "cell_type": "code",
   "execution_count": null,
   "metadata": {},
   "outputs": [],
   "source": [
    "main()"
   ]
  }
 ],
 "metadata": {
  "kernelspec": {
   "display_name": "Python 3",
   "language": "python",
   "name": "python3"
  },
  "language_info": {
   "codemirror_mode": {
    "name": "ipython",
    "version": 3
   },
   "file_extension": ".py",
   "mimetype": "text/x-python",
   "name": "python",
   "nbconvert_exporter": "python",
   "pygments_lexer": "ipython3",
   "version": "3.8.10"
  }
 },
 "nbformat": 4,
 "nbformat_minor": 2
}
